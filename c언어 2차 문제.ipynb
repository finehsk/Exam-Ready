{
 "cells": [
  {
   "cell_type": "markdown",
   "metadata": {},
   "source": [
    "## 11. string"
   ]
  },
  {
   "cell_type": "markdown",
   "metadata": {},
   "source": [
    "__문제 1__ 다음 빈칸에 알맞은 말은?\n",
    "```\n",
    "char str[11] = \"Good day\";\n",
    "String length = ___ byte(takes ___ bytes)\n",
    "Array length = ___\n",
    "```\n",
    "__Answer 8, 9, 11__"
   ]
  },
  {
   "cell_type": "markdown",
   "metadata": {},
   "source": [
    "__문제 2__ 다음 중 출력값이 \"Good Day\"로 나오지 않는 코드를 고르시오\n",
    "```\n",
    "(1) char string[9] = \"Good Day\";\n",
    "(2) char string[] = \"Good Day\";\n",
    "(3) char *string = \"Good Day\";\n",
    "(4) char string[] = {'G','o','o','d',' ','D','a','y'};\n",
    "```\n",
    "__Answer (4)__"
   ]
  },
  {
   "cell_type": "markdown",
   "metadata": {},
   "source": [
    "__문제 3__ Assigning to string constants(T/F)?\n",
    "```\n",
    "char str1[9] = \"Good Day\";\n",
    "char str2[9];\n",
    "str2 = str1;\n",
    "```\n",
    "__Answer F__"
   ]
  },
  {
   "cell_type": "markdown",
   "metadata": {},
   "source": [
    "__문제 4__ Assigning a string to a character pointer(T/F)?\n",
    "```\n",
    "char str[9] = \"Good Day\";\n",
    "char *pStr = NULL;\n",
    "pStr = str;\n",
    "```\n",
    "__Answer T__"
   ]
  },
  {
   "cell_type": "markdown",
   "metadata": {},
   "source": [
    "__문제 5__ 다음 코드의 빈칸에 들어갈 것은?\n",
    "```\n",
    "#include <stdio.h>\n",
    "\n",
    "int main(void) \n",
    "{\n",
    "  char _______;\n",
    "  int i =0;\n",
    "\n",
    "  pDays[0] = \"Sunday\";\n",
    "  pDays[1] = \"Monday\";\n",
    "  pDays[2] = \"Wednesday\";\n",
    "  pDays[3] = \"Saturday\";\n",
    "  for(i=0;i<4;i++)\n",
    "    printf(\"%s\\n\",pDays[i]);\n",
    "\n",
    "  return 0;\n",
    "}\n",
    "```\n",
    "__Answer *pDays[4]__"
   ]
  },
  {
   "cell_type": "markdown",
   "metadata": {},
   "source": [
    "__문제 6__ 다음 코드는 에러가 있는 코드이다. 올바르게 고치시오.\n",
    "```\n",
    "#include <stdio.h>\n",
    "\n",
    "int main(void) \n",
    "{\n",
    "  char *pDays[4];\n",
    "  char **p = NULL, **pLast = NULL;\n",
    "\n",
    "  pDays[0] = \"Sunday\";\n",
    "  pDays[1] = \"Monday\";\n",
    "  pDays[2] = \"Wednesday\";\n",
    "  pDays[3] = \"Saturday\";\n",
    "  pLast = pDays + 4;\n",
    "  for(p=0;p<pLast;p++)\n",
    "    printf(\"%s\\n\",*p);\n",
    "  return 0;\n",
    "}\n",
    "```\n",
    "__Answer: p=0; --> p=pDays__"
   ]
  },
  {
   "cell_type": "markdown",
   "metadata": {},
   "source": [
    "__문제 7__ 다음 문제의 빈칸을 채우세요.\n",
    "```\n",
    "char message[256]; //____________ should be sufficient\n",
    "scanf(\"%s\",message); // ___ is not necessary\n",
    "printf(\"Message is ___\",massage);\n",
    "\n",
    "(1) Delimiter of _______: white space characters.\n",
    "(2) For safety, it is desirable to specify width modifier.\n",
    "ex) scanf(\"%255s\",message);\n",
    "```\n",
    "__Answer: array size, &, %s, scanf__"
   ]
  },
  {
   "cell_type": "markdown",
   "metadata": {},
   "source": [
    "__문제 8__ 다음은 scanf와 gets 차이를 보여주는 코드이다. 결과값을 적으시오.\n",
    "```\n",
    "char buffer[256]; //input is \"Hello, World\"\n",
    "scanf(\"%s\",buffer);\n",
    "printf(\"%s\",buffer); // print: ________________\n",
    "gets(buffer);\n",
    "printf(\"%s\",buffer); // print: ________________\n",
    "```\n",
    "__Answer: Hello, Hello,World__"
   ]
  },
  {
   "cell_type": "markdown",
   "metadata": {},
   "source": [
    "__문제 9__ Fill in the blanks.\n",
    "```\n",
    "1. gets() __________ '\\n' with '\\0'\n",
    "ex) gets(\"Hello\") // Hello\\0\n",
    "\n",
    "2. fgets() __________ '\\n' and ______ '\\0'\n",
    "ex) fgets(\"Hello\") //Hello\\n\\0\n",
    "```\n",
    "__Answer: replace, keeps, appends__"
   ]
  },
  {
   "cell_type": "markdown",
   "metadata": {},
   "source": [
    "__문제 10.__ 다음 중 옳지 않은 것을 모두 고르세요.\n",
    "```\n",
    "char str1[10] = \"123\";\n",
    "char str2[10] = \"456\";\n",
    "char str3[10]; 일때\n",
    "\n",
    "(1) str3 = str1;\n",
    "(2) if(str1 == str2) of (str > str2)\n",
    "(3) str3 = str1 + str2;\n",
    "```\n",
    "__Answer (1),(2),(3)__"
   ]
  },
  {
   "cell_type": "markdown",
   "metadata": {},
   "source": [
    "__문제 11.__ 함수와 기능을 알맞게 연결해라.\n",
    "```\n",
    "(a) strcmp (b) strlen (c) strcpy (d) strcat\n",
    "\n",
    "1. String length: ___\n",
    "2. String copy: ___\n",
    "3. String compare: ___\n",
    "4. String concatenation: ___\n",
    "```\n",
    "__Answer (b),(c),(a),(d)__"
   ]
  },
  {
   "cell_type": "markdown",
   "metadata": {},
   "source": [
    "__문제 12.__ 출력값을 적으세요.\n",
    "```\n",
    "char string[10] = \"Hello.\";\n",
    "printf(\"length of [%s] = %d\\n\",string,strlen(string));\n",
    "\n",
    "//result: length of [Hello] = ___\n",
    "//sizeof(string) --> ____\n",
    "```\n",
    "__Answer 5, 10__"
   ]
  },
  {
   "cell_type": "markdown",
   "metadata": {},
   "source": [
    "__문제 13.__ 다음은 문자열 함수에 대한 설명이다.Fill in the blank\n",
    "```\n",
    "1. _______ can be not safe, when the destination is not long enough to have source.\n",
    "2. If maxLen is not large enough, ____ can be omitted\n",
    "```\n",
    "__Answer strcpy, '\\0'__"
   ]
  },
  {
   "cell_type": "markdown",
   "metadata": {},
   "source": [
    "__문제 14.__ Fill in the blank. 부등호를 써라\n",
    "```\n",
    "1. strcmp(\"Hello\",\"Hello\") ____ 0\n",
    "2. strcmp(\"abcde\", \"ABCDE\") ___ 0\n",
    "3. strcmp(\"Hello\",\"World\") ___ 0\n",
    "```\n",
    "__Answer ==, > ,<__"
   ]
  },
  {
   "cell_type": "markdown",
   "metadata": {},
   "source": [
    "__문제 15.__ sellect T/F\n",
    "```\n",
    "1. Compares each character from right to left(T/F)\n",
    "2. if a difference is found,stop comparison, return the 0(T/F)\n",
    "3. If '\\0' is reached at both strings, return 0(T/F)\n",
    "```\n",
    "__Answer: F, F, T__"
   ]
  },
  {
   "cell_type": "markdown",
   "metadata": {},
   "source": [
    "__문제 16.__ What is the result if input number are 20, 30\n",
    "```\n",
    "#include <stdio.h>\n",
    "#include <string.h>\n",
    "#include <stdlib.h>\n",
    "\n",
    "int main()\n",
    "{ \n",
    "  int a =0;\n",
    "  int b =0;\n",
    "  int c =0;\n",
    "  char str1[30], str2[30];\n",
    "  char str3[60];\n",
    "\n",
    "  printf(\"input two number: \\n\");\n",
    "  scanf(\"%s %s\",str1,str2);//123 456\n",
    "\n",
    "  a = atoi(str1);\n",
    "  sscanf(str2,\"%d\",&b);\n",
    "  c = a + b;\n",
    "  \n",
    "  strcpy(str3,str1);\n",
    "  strcat(str3, str2);\n",
    "\n",
    "  printf(\"%d + %d = %d\\n\",a,b,c);\n",
    "  printf(\"\\%s\\\"+ \\\"%s\\\" = \\\"%s\\n\",str1, str2, str3);\n",
    "  return 0;\n",
    "}\n",
    "```\n",
    "__Answer: 50, 2030__"
   ]
  },
  {
   "cell_type": "markdown",
   "metadata": {},
   "source": [
    "## 12. Enumerated, Structure, and Unions"
   ]
  },
  {
   "cell_type": "markdown",
   "metadata": {},
   "source": [
    "__문제 1.__ Fill in the blanks\n",
    "```\n",
    "1. Give exiting data type ___ _______ to makes a progrma more readable to the prograamer.\n",
    "\n",
    "2. void* malloc(sieze_t sizelnBytes);\n",
    "   size_t is usually _________ to unsigned int. \n",
    "\n",
    "3. Syntax: typedef type ___________;\n",
    "\n",
    "4. The new type can then be used ________ a type is permited.\n",
    "\n",
    "5. A set of values is a ________ list of _________ chosen by the programmer.\n",
    "```\n",
    "__Answer: new names, defined, identifier, anywhere, finite, identifiers__"
   ]
  },
  {
   "cell_type": "markdown",
   "metadata": {},
   "source": [
    "__문제 2.__ 다음은 Enumerated Type에 대한 설명이다. Fill in the blanks. \n",
    "```\n",
    "1.___________ type: a data type whose set of values is a finite list of identifiers chosen by the programmer. \n",
    "\n",
    "2. \"enum _______\" specifies a user-defined data type.\n",
    "```\n",
    "__Answer: enumerated, typeName__"
   ]
  },
  {
   "cell_type": "markdown",
   "metadata": {},
   "source": [
    "__문제 3.__ Fill in the blank.\n",
    "```\n",
    "#include <stdio.h>\n",
    "\n",
    "int main(void) \n",
    "{\n",
    "  //definition of Color type \n",
    "  _____ Color {RED, GREEN, BLUE, WHITE, PURPLE};\n",
    "  //variable declarations\n",
    "  _____ Color x,y,z;\n",
    "  \n",
    "  x= BLUE;\n",
    "  y= WHITE;\n",
    "  z= PURPLE;\n",
    "\n",
    "  if(x == BLUE)\n",
    "  {\n",
    "\n",
    "  }\n",
    "  switch(y)\n",
    "  {\n",
    "    case WHITE;\n",
    "  }\n",
    "  return 0;\n",
    "}\n",
    "```\n",
    "__Answer: enum__"
   ]
  },
  {
   "cell_type": "markdown",
   "metadata": {},
   "source": [
    "__문제 2__ This question is typedef vs #define. Fill in the blanks.\n",
    "```\n",
    "1. #define INTP int*\n",
    "   INTP pa,pb; // same with __________\n",
    "\n",
    "2. typedef int*INTP;\n",
    "   INTP pa,pb; //same with _____________\n",
    "   \n",
    "3. It is convention to use ________ letters for enumerated _____ and defined _________.\n",
    "```\n",
    "__Answer: 1. int *pa,pb 2. *pa, *pb 3. capital, names, constants__"
   ]
  },
  {
   "cell_type": "markdown",
   "metadata": {},
   "source": [
    "__문제 3.__ This question is typdef vs #deinfe.Fill in the blanks.\n",
    "```\n",
    "(1)\n",
    "\n",
    "#define RED 0\n",
    "#define GREEN 1\n",
    "#define BLUE 2\n",
    "\n",
    "_____ x,y,z;\n",
    "\n",
    "(2) \n",
    "#define RED 0\n",
    "#define GREEN 1\n",
    "#define BLUE 2\n",
    "\n",
    "______ int Color;\n",
    "\n",
    "Color x,y,z;\n",
    "```\n",
    "__Answer: (1) int, (2) Color__"
   ]
  },
  {
   "cell_type": "markdown",
   "metadata": {},
   "source": [
    "__문제 4.__ This question is Enumerated Constants. Fill in the blanks.\n",
    "```\n",
    "1. enum Color{RED,GREEN,BLUE,WHITE,PURPLE};\n",
    "   printf(\"RED = %d\", RED); // RED = __;\n",
    "   printf(\"GREEN = %d\", GREEN); // GREEN = __;\n",
    "```\n",
    "__Answer: 0 , 1__"
   ]
  },
  {
   "cell_type": "markdown",
   "metadata": {},
   "source": [
    "__문제 5.__ This question is structure. Fill in the blanks.\n",
    "```\n",
    "1. Some complex ________ are composed of many _______.\n",
    "2. collection of related elements, possibly of ______ ______.\n",
    "```\n",
    "__Answer: enetities, properties, different types__"
   ]
  },
  {
   "cell_type": "markdown",
   "metadata": {},
   "source": [
    "__문제 6.__ Fill in the blank.\n",
    "```\n",
    "1. Defining ___________ data type.\n",
    "2. syntax: struct [____] {   [____________]  };\n",
    "3. ____ can be ommitted. \n",
    "```\n",
    "__Answer: user-defined, tag, field list, tag__"
   ]
  },
  {
   "cell_type": "markdown",
   "metadata": {},
   "source": [
    "__문제 7.__ This question is structure variable declaration. \n",
    "```\n",
    "1. struct STUDENT; \n",
    "Ex) ________________ student[50];\n",
    "\n",
    "2. typename struct STUDENT;\n",
    "Ex) ________________ student[50];\n",
    "```\n",
    "__Answer: struct STUDENT, STUDENT__"
   ]
  },
  {
   "cell_type": "markdown",
   "metadata": {},
   "source": [
    "__문제 8.__ This question is strcture to make instances. Fill in the blanks. \n",
    "```\n",
    "(1) _______ tPerson \n",
    "    {\n",
    "     char name[10];\n",
    "     int age;\n",
    "    }person1;\n",
    "\n",
    "(2) struct tPerson\n",
    "    { \n",
    "     char name[10];\n",
    "     int age\n",
    "    };\n",
    "    struct ________ person1;\n",
    "\n",
    "(3) ________ struct\n",
    "    {\n",
    "     char name[10];\n",
    "     int age;\n",
    "    } Tperson;\n",
    "    Tperson person1;\n",
    "    \n",
    "(4) typedef struct tPerson ________;\n",
    "    struct tPerson\n",
    "    {\n",
    "     char name[10];\n",
    "     int age;\n",
    "    };\n",
    "    Tperson person1;\n",
    "\n",
    "```\n",
    "__Answer: (1)struct, (2)tPerson, (3)typedef, (4)Tperson__\n",
    "    "
   ]
  },
  {
   "cell_type": "markdown",
   "metadata": {},
   "source": [
    "__문제 9.__ 다음 중 구조체 초기화로 옳은 것은?\n",
    "```\n",
    "(a) SAMPLE sam1 = {2,5,3.2,'A'};\n",
    "(b) SAMPLE SMA1[] = {1,2,3};\n",
    "(c) SAMPLE sam2[2] = {7,3};\n",
    "```\n",
    "__Answer: (b)__"
   ]
  },
  {
   "cell_type": "markdown",
   "metadata": {},
   "source": [
    "__문제 10.__ Fill in the blank.\n",
    "```\n",
    "#include <stdio.h>\n",
    "typedef struct\n",
    "{\n",
    "  int numerator;\n",
    "  int denominator;\n",
    "} FRACTION;\n",
    "int main()\n",
    "{\n",
    "  ___(a)____ fr1;\n",
    "  ___(a)____ fr2;\n",
    "  ___(a)____ res;\n",
    "\n",
    "  printf(\"Key first fraction in the form of x/y: \");\n",
    "  scanf(\"%d / %d\", &__(b)__numerator,&__(b)__denominator);\n",
    "  printf(\"Key second fraction in the form of x/y: \");\n",
    "  scanf(\"%d / %d\", &__(c)__numerator,&__(c)__denominator);\n",
    "\n",
    "  __(d)__numerator = fr1.numerator * fr2.numerator;\n",
    "  __(d)__denominator = fr1.denominator * fr2.denominator;\n",
    "  printf(\"The result of %d/%d * %d/%d is %d/%d\",fr1.numerator,fr1.denominator, fr2.numerator,fr2.denominator,res.numerator,res.denominator);\n",
    "  return 0;\n",
    "}\n",
    "```\n",
    "__Answer: (a): FRACTION (b): fr1. (c): fr2.  (d) res.__"
   ]
  },
  {
   "cell_type": "markdown",
   "metadata": {},
   "source": [
    "__문제 11번.__ Selecting the T/F?\n",
    "```\n",
    "1. Assignment is possible for structure variables.(T/F)\n",
    "ex) sam2 = sam1;\n",
    "\n",
    "2. Structures can also be accessed through pointers.(T/F)\n",
    "ex) typedef struct\n",
    "{\n",
    " int x;\n",
    " int y;\n",
    " float t;\n",
    " char u;\n",
    "}\n",
    "SAMPLE sam1;\n",
    "SAMPLE* ptr;\n",
    "ptr = &sam1;\n",
    "\n",
    "3. Accessign field through pointer.\n",
    "*ptr.x = 100; // incorrect\n",
    "(*ptr).x = 100; //correct\n",
    "\n",
    "4. Indirect selection operator(->) (T/F)\n",
    "ex) (*pointerName).fieldName = pointerName -> fieldName\n",
    "```\n",
    "__Answer: T,T,T__"
   ]
  },
  {
   "cell_type": "markdown",
   "metadata": {},
   "source": [
    "__문제 12.__ 다음 코드의 출력값을 적으세요.\n",
    "```\n",
    "#include <stdio.h>\n",
    "\n",
    "typedef struct\n",
    "{\n",
    "  int hr,min,sec;\n",
    "}CLOCK;\n",
    "\n",
    "void increment(CLOCK* pClock);\n",
    "void show(CLOCK* pClock);\n",
    "\n",
    "int main()\n",
    "{\n",
    "  int i =0;\n",
    "\n",
    "  CLOCK clock = {14,38,56};\n",
    "  for(i=0;i<6;i++)\n",
    "  {\n",
    "    increment (&clock);\n",
    "    show(&clock);\n",
    "  }// for\n",
    "\n",
    "  return 0;\n",
    "}\n",
    "void increment(CLOCK *pClock)\n",
    "{\n",
    "  (pClock -> sec)++;\n",
    "  if(pClock -> sec == 60)\n",
    "  {\n",
    "    pClock -> sec =0;\n",
    "    (pClock->min)++;\n",
    "    if(pClock->min == 60)\n",
    "    {\n",
    "      pClock->min=0;\n",
    "      (pClock->hr)++;\n",
    "      if(pClock->hr==24)\n",
    "        pClock->hr=0;\n",
    "    }\n",
    "  }\n",
    "}\n",
    "void show(CLOCK*pClock)\n",
    "{\n",
    "  printf(\"%02d:%02d:%02d\\n\",pClock->hr,pClock->min,pClock->sec);\n",
    "}\n",
    "```\n",
    "__Answer: 14:38:57, 14:38:57, 14:38:58, 14:38:59, 14:39:00, 14:39:01, 14:39:02__"
   ]
  },
  {
   "cell_type": "markdown",
   "metadata": {},
   "source": [
    "__문제 13.__ This question is Union. Fill in the blanks,\n",
    "```\n",
    "1. a construct that allows memory to be _______ by different types of data\n",
    "2. Syntax and usage are very similar to those of _________.\n",
    "ex) \n",
    "union shareData\n",
    "{\n",
    "  char chAry[2];\n",
    "  short num;\n",
    "};\n",
    "```\n",
    "__Answer: shared, struct__"
   ]
  },
  {
   "cell_type": "markdown",
   "metadata": {},
   "source": [
    "__문제 14.__ 다음 코드의 출력값을 적으세요.\n",
    "```\n",
    "#include <stdio.h>\n",
    "\n",
    "union MyUnion\n",
    "{\n",
    "  int a;\n",
    "  int b;\n",
    "};\n",
    "\n",
    "int main()\n",
    "{\n",
    "  union MyUnion u; //u.a == u.n\n",
    "  u.a = 100;\n",
    "  u.b = 200;\n",
    "  \n",
    "  printf(\"a= %d, b = %d\",u.a,u.b);\n",
    "  \n",
    "  return 0;\n",
    "}\n",
    "\n",
    "a= ____\n",
    "b= ____\n",
    "```\n",
    "__Answer: 200,200__"
   ]
  },
  {
   "cell_type": "markdown",
   "metadata": {},
   "source": [
    "__문제 15.__ Fill in the blank.\n",
    "```\n",
    "typedef struct\n",
    "{\n",
    "  char first[20];\n",
    "  char init;\n",
    "  char last[30];\n",
    "}PERSON;\n",
    "typedef struct\n",
    "{\n",
    "  char type;\n",
    "  _____\n",
    "   {\n",
    "     char company[40];\n",
    "     PERSON person;\n",
    "   } un;\n",
    "}NAME;\n",
    "```\n",
    "__Answer: union__"
   ]
  },
  {
   "cell_type": "markdown",
   "metadata": {},
   "source": [
    "# 13. Binary Input/Output"
   ]
  },
  {
   "cell_type": "markdown",
   "metadata": {},
   "source": [
    "__문제 1.__ Fill in the blanks.\n",
    "```\n",
    "1. Text: a file in which data are stored using only _______.\n",
    "2. Formatted input/output requires _________ from ______ to _____ and vice versa.\n",
    "3. Binary file: a collection of data stored in the _______ _______ of computer.\n",
    "4. Data are stored in the file in the same format that are stored in memory.(-> __________ is not required)\n",
    "```\n",
    "__Answer: character, conversion, value, string, internal, format, conversion__"
   ]
  },
  {
   "cell_type": "markdown",
   "metadata": {},
   "source": [
    "__문제 2.__ 다음은 Text files와 Binary files에 대한 설명이다. 알맞은 설명에 기호를 적어라.\n",
    "```\n",
    "(a) Text files  (b) Binary file\n",
    "\n",
    "1. All data are human-readable characters. (  )\n",
    "2. Not portable. (  ) \n",
    "3. No lines or newline characters. (  )\n",
    "4. Each line ends with a newline character. (  )\n",
    "5. No lines or newline characters.  (  ) \n",
    "6. Data are stored in the same format as they are stored in memory.  (  )\n",
    "7. Fast(no conversion)  (  )\n",
    "```\n",
    "__Answer: a,b,b,a,b,b,b__"
   ]
  },
  {
   "cell_type": "markdown",
   "metadata": {},
   "source": [
    "__문제 3.__ Fill in the blanks.\n",
    "```\n",
    "1. ______(&x, sizeof(int), 1, fp);\n",
    "2. ______(&x, sizeof(int), 1, fp);\n",
    "```\n",
    "__Answer: fread, fwrite__"
   ]
  },
  {
   "cell_type": "markdown",
   "metadata": {},
   "source": [
    "__문제 4.__ Text I/O compare Binary I/O question. Fill in the blanks.\n",
    "```\n",
    "(a) FILE *fp = fopen(filename,\"___\")\n",
    "(b) FILE *fp = fopen(filename,\"___\")\n",
    "(c) ________(fp,fmt_str,addr_list) \n",
    "(d) ________(fp,fmt_strmvalue_list)\n",
    "(e) _______(fp);\n",
    "(f) FILE *fp = fopen(filename,\"___\") \n",
    "(g) FILE *fp = fopen(filename,\"___\") \n",
    "(h) ________(addr,size,count,fp)\n",
    "(i) ________(addr,size,count,fp)\n",
    "(j) _______(fp);\n",
    "```"
   ]
  },
  {
   "cell_type": "markdown",
   "metadata": {},
   "source": [
    "__문제 5.__ 알맞은 설명과 함수를 짝지어라.\n",
    "```\n",
    "(a) feof (b) ferror (c) clearerr (d) rewind (e) ftell (f)fseek\n",
    "\n",
    "1. Clear error: (  )\n",
    "2. Set position: (  )\n",
    "3. Rewind file: (  )\n",
    "4. Test end of file: (  )\n",
    "5. Test error: (  )\n",
    "6. Current location: (  )\n",
    "```"
   ]
  },
  {
   "cell_type": "markdown",
   "metadata": {},
   "source": [
    "# 14. Bitwise Operators"
   ]
  },
  {
   "cell_type": "markdown",
   "metadata": {},
   "source": [
    "__문제 1.__ Fill in the blanks.\n",
    "```\n",
    "(a) | (b) & (c)^ (d) ~\n",
    "\n",
    "1. 1100 ___ 1010 = 1000\n",
    "2. 1100 ___ 1010 = 1110\n",
    "3. 1100 ___ 1010 = 0110\n",
    "4. ___1100 = 0011\n",
    "```"
   ]
  },
  {
   "cell_type": "markdown",
   "metadata": {},
   "source": [
    "__문제 2.__ if a = 0000 0010 0101 0111, b =1010 0100 0110 0011, Fill in the blanks.\n",
    "```\n",
    "1. a & b = _________________________\n",
    "2. a | b = _________________________\n",
    "3. a ^ b = _________________________\n",
    "```"
   ]
  },
  {
   "cell_type": "markdown",
   "metadata": {},
   "source": [
    "__문제 3.__ This question is logical operator vs bitwise logical operators. Fill in the blanks.\n",
    "```\n",
    "\n",
    "a = 0000 0000 0000 0001\n",
    "b = 0000 0000 0000 0100\n",
    "\n",
    "1. a && b == ___;\n",
    "2. a & b == ___;\n",
    "3. a || b == ___;\n",
    "4. a | b == ___;\n",
    "```"
   ]
  }
 ],
 "metadata": {
  "kernelspec": {
   "display_name": "Python 3",
   "language": "python",
   "name": "python3"
  },
  "language_info": {
   "codemirror_mode": {
    "name": "ipython",
    "version": 3
   },
   "file_extension": ".py",
   "mimetype": "text/x-python",
   "name": "python",
   "nbconvert_exporter": "python",
   "pygments_lexer": "ipython3",
   "version": "3.7.3"
  }
 },
 "nbformat": 4,
 "nbformat_minor": 2
}
